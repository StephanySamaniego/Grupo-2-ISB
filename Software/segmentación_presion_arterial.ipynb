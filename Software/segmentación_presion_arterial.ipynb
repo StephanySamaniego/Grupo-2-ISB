{
  "nbformat": 4,
  "nbformat_minor": 0,
  "metadata": {
    "colab": {
      "provenance": []
    },
    "kernelspec": {
      "name": "python3",
      "display_name": "Python 3"
    },
    "language_info": {
      "name": "python"
    }
  },
  "cells": [
    {
      "cell_type": "code",
      "execution_count": 1,
      "metadata": {
        "id": "6lSyzVoyWoI2"
      },
      "outputs": [],
      "source": [
        "import numpy as np\n",
        "import matplotlib.pyplot as plt\n",
        "import pandas as pd\n",
        "import seaborn as sns\n",
        "import re\n",
        "import pywt\n",
        "from scipy import signal\n",
        "from scipy.signal import iirnotch, freqz, find_peaks\n",
        "from scipy.signal import lfilter"
      ]
    },
    {
      "cell_type": "code",
      "source": [
        "Fs = 500 #Fs:500\n",
        "Ts=1/Fs\n",
        "\n",
        "print(f\" Fs={Fs} hz\\n Ts={Ts} s\")\n",
        "arrayecg = np.genfromtxt(\"MBP_art_20mins.txt\", delimiter=\"\\t\",skip_header = 1)\n",
        "#Extraemos la columna de la señal\n",
        "signal = arrayecg[:, 1]\n",
        "print(len(signal))\n",
        "\n",
        "n = 1000 #Queremos graficar 2 minutos de la señal\n",
        "t = np.arange(0,n*Ts,Ts)\n",
        "\n",
        "signal2 = signal[:900000] #Obtenemos los primeros 2000 valores de nuestra señal\n",
        "len(signal2)"
      ],
      "metadata": {
        "colab": {
          "base_uri": "https://localhost:8080/"
        },
        "id": "zWIkr7jxW9kN",
        "outputId": "a47a703a-fd92-4b06-9da3-5c1473dde91f"
      },
      "execution_count": 2,
      "outputs": [
        {
          "output_type": "stream",
          "name": "stdout",
          "text": [
            " Fs=500 hz\n",
            " Ts=0.002 s\n",
            "368406\n"
          ]
        },
        {
          "output_type": "execute_result",
          "data": {
            "text/plain": [
              "368406"
            ]
          },
          "metadata": {},
          "execution_count": 2
        }
      ]
    },
    {
      "cell_type": "code",
      "source": [
        "import csv\n",
        "\n",
        "# Definir la duración de cada segmento en segundos\n",
        "segment_duration = 30\n",
        "\n",
        "# Duración total de la señal en minutos\n",
        "total_duration_minutes = 20\n",
        "\n",
        "# Frecuencia de muestreo (Fs)\n",
        "Fs = 500\n",
        "\n",
        "# Calcular el número total de segmentos\n",
        "num_segments = int((total_duration_minutes * 60) / segment_duration)\n",
        "\n",
        "# Lista para almacenar los promedios de cada segmento\n",
        "segment_averages = []\n",
        "\n",
        "# Segmentar la señal y calcular el promedio de cada segmento\n",
        "for i in range(num_segments):\n",
        "    # Índices del segmento actual\n",
        "    start_idx = i * int(segment_duration * Fs)\n",
        "    end_idx = (i + 1) * int(segment_duration * Fs)\n",
        "\n",
        "    # Seleccionar el segmento de la señal\n",
        "    segment_values = signal[start_idx:end_idx]\n",
        "\n",
        "    # Calcular el promedio del segmento y agregarlo a la lista\n",
        "    segment_average = sum(segment_values) / len(segment_values) if len(segment_values) > 0 else 0\n",
        "    segment_averages.append(segment_average)\n",
        "\n",
        "# Guardar los promedios en un archivo CSV\n",
        "csv_filename = \"promedios_segmentosss.csv\"\n",
        "with open(csv_filename, 'w', newline='') as csv_file:\n",
        "    writer = csv.writer(csv_file)\n",
        "\n",
        "    # Escribir encabezado\n",
        "    writer.writerow(['Promedio'])\n",
        "\n",
        "    # Escribir los promedios de cada segmento\n",
        "    for average in segment_averages:\n",
        "        writer.writerow([average])\n",
        "\n",
        "print(f\"Los promedios se han guardado en el archivo CSV: {csv_filename}\")"
      ],
      "metadata": {
        "colab": {
          "base_uri": "https://localhost:8080/"
        },
        "id": "0dHvTc_pWvs7",
        "outputId": "6b7c2d5e-5bd3-41ee-a1e4-8ed245c8a3ef"
      },
      "execution_count": 6,
      "outputs": [
        {
          "output_type": "stream",
          "name": "stdout",
          "text": [
            "Los promedios se han guardado en el archivo CSV: promedios_segmentosss.csv\n"
          ]
        }
      ]
    }
  ]
}