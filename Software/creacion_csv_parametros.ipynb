{
  "nbformat": 4,
  "nbformat_minor": 0,
  "metadata": {
    "colab": {
      "provenance": []
    },
    "kernelspec": {
      "name": "python3",
      "display_name": "Python 3"
    },
    "language_info": {
      "name": "python"
    }
  },
  "cells": [
    {
      "cell_type": "code",
      "execution_count": 1,
      "metadata": {
        "colab": {
          "base_uri": "https://localhost:8080/"
        },
        "id": "KZBx0abWQKNn",
        "outputId": "40e33429-462d-44f5-a4c1-efc29f34856d"
      },
      "outputs": [
        {
          "output_type": "stream",
          "name": "stdout",
          "text": [
            "Requirement already satisfied: biosignalsnotebooks in /usr/local/lib/python3.10/dist-packages (0.6.13)\n",
            "Requirement already satisfied: numpy==1.22.2 in /usr/local/lib/python3.10/dist-packages (from biosignalsnotebooks) (1.22.2)\n",
            "Requirement already satisfied: matplotlib in /usr/local/lib/python3.10/dist-packages (from biosignalsnotebooks) (3.7.1)\n",
            "Requirement already satisfied: scipy==1.8.1 in /usr/local/lib/python3.10/dist-packages (from biosignalsnotebooks) (1.8.1)\n",
            "Requirement already satisfied: h5py in /usr/local/lib/python3.10/dist-packages (from biosignalsnotebooks) (3.9.0)\n",
            "Requirement already satisfied: wget in /usr/local/lib/python3.10/dist-packages (from biosignalsnotebooks) (3.2)\n",
            "Requirement already satisfied: datetime in /usr/local/lib/python3.10/dist-packages (from biosignalsnotebooks) (5.3)\n",
            "Requirement already satisfied: bokeh==2.4.3 in /usr/local/lib/python3.10/dist-packages (from biosignalsnotebooks) (2.4.3)\n",
            "Requirement already satisfied: IPython in /usr/local/lib/python3.10/dist-packages (from biosignalsnotebooks) (7.34.0)\n",
            "Requirement already satisfied: pandas in /usr/local/lib/python3.10/dist-packages (from biosignalsnotebooks) (1.5.3)\n",
            "Requirement already satisfied: nbformat in /usr/local/lib/python3.10/dist-packages (from biosignalsnotebooks) (5.9.2)\n",
            "Requirement already satisfied: requests in /usr/local/lib/python3.10/dist-packages (from biosignalsnotebooks) (2.31.0)\n",
            "Requirement already satisfied: libmagic in /usr/local/lib/python3.10/dist-packages (from biosignalsnotebooks) (1.0)\n",
            "Requirement already satisfied: python-magic in /usr/local/lib/python3.10/dist-packages (from biosignalsnotebooks) (0.4.27)\n",
            "Requirement already satisfied: Jinja2>=2.9 in /usr/local/lib/python3.10/dist-packages (from bokeh==2.4.3->biosignalsnotebooks) (3.1.2)\n",
            "Requirement already satisfied: packaging>=16.8 in /usr/local/lib/python3.10/dist-packages (from bokeh==2.4.3->biosignalsnotebooks) (23.2)\n",
            "Requirement already satisfied: pillow>=7.1.0 in /usr/local/lib/python3.10/dist-packages (from bokeh==2.4.3->biosignalsnotebooks) (9.4.0)\n",
            "Requirement already satisfied: PyYAML>=3.10 in /usr/local/lib/python3.10/dist-packages (from bokeh==2.4.3->biosignalsnotebooks) (6.0.1)\n",
            "Requirement already satisfied: tornado>=5.1 in /usr/local/lib/python3.10/dist-packages (from bokeh==2.4.3->biosignalsnotebooks) (6.3.2)\n",
            "Requirement already satisfied: typing-extensions>=3.10.0 in /usr/local/lib/python3.10/dist-packages (from bokeh==2.4.3->biosignalsnotebooks) (4.5.0)\n",
            "Requirement already satisfied: zope.interface in /usr/local/lib/python3.10/dist-packages (from datetime->biosignalsnotebooks) (6.1)\n",
            "Requirement already satisfied: pytz in /usr/local/lib/python3.10/dist-packages (from datetime->biosignalsnotebooks) (2023.3.post1)\n",
            "Requirement already satisfied: setuptools>=18.5 in /usr/local/lib/python3.10/dist-packages (from IPython->biosignalsnotebooks) (67.7.2)\n",
            "Requirement already satisfied: jedi>=0.16 in /usr/local/lib/python3.10/dist-packages (from IPython->biosignalsnotebooks) (0.19.1)\n",
            "Requirement already satisfied: decorator in /usr/local/lib/python3.10/dist-packages (from IPython->biosignalsnotebooks) (4.4.2)\n",
            "Requirement already satisfied: pickleshare in /usr/local/lib/python3.10/dist-packages (from IPython->biosignalsnotebooks) (0.7.5)\n",
            "Requirement already satisfied: traitlets>=4.2 in /usr/local/lib/python3.10/dist-packages (from IPython->biosignalsnotebooks) (5.7.1)\n",
            "Requirement already satisfied: prompt-toolkit!=3.0.0,!=3.0.1,<3.1.0,>=2.0.0 in /usr/local/lib/python3.10/dist-packages (from IPython->biosignalsnotebooks) (3.0.41)\n",
            "Requirement already satisfied: pygments in /usr/local/lib/python3.10/dist-packages (from IPython->biosignalsnotebooks) (2.16.1)\n",
            "Requirement already satisfied: backcall in /usr/local/lib/python3.10/dist-packages (from IPython->biosignalsnotebooks) (0.2.0)\n",
            "Requirement already satisfied: matplotlib-inline in /usr/local/lib/python3.10/dist-packages (from IPython->biosignalsnotebooks) (0.1.6)\n",
            "Requirement already satisfied: pexpect>4.3 in /usr/local/lib/python3.10/dist-packages (from IPython->biosignalsnotebooks) (4.8.0)\n",
            "Requirement already satisfied: contourpy>=1.0.1 in /usr/local/lib/python3.10/dist-packages (from matplotlib->biosignalsnotebooks) (1.2.0)\n",
            "Requirement already satisfied: cycler>=0.10 in /usr/local/lib/python3.10/dist-packages (from matplotlib->biosignalsnotebooks) (0.12.1)\n",
            "Requirement already satisfied: fonttools>=4.22.0 in /usr/local/lib/python3.10/dist-packages (from matplotlib->biosignalsnotebooks) (4.44.3)\n",
            "Requirement already satisfied: kiwisolver>=1.0.1 in /usr/local/lib/python3.10/dist-packages (from matplotlib->biosignalsnotebooks) (1.4.5)\n",
            "Requirement already satisfied: pyparsing>=2.3.1 in /usr/local/lib/python3.10/dist-packages (from matplotlib->biosignalsnotebooks) (3.1.1)\n",
            "Requirement already satisfied: python-dateutil>=2.7 in /usr/local/lib/python3.10/dist-packages (from matplotlib->biosignalsnotebooks) (2.8.2)\n",
            "Requirement already satisfied: fastjsonschema in /usr/local/lib/python3.10/dist-packages (from nbformat->biosignalsnotebooks) (2.19.0)\n",
            "Requirement already satisfied: jsonschema>=2.6 in /usr/local/lib/python3.10/dist-packages (from nbformat->biosignalsnotebooks) (4.19.2)\n",
            "Requirement already satisfied: jupyter-core in /usr/local/lib/python3.10/dist-packages (from nbformat->biosignalsnotebooks) (5.5.0)\n",
            "Requirement already satisfied: charset-normalizer<4,>=2 in /usr/local/lib/python3.10/dist-packages (from requests->biosignalsnotebooks) (3.3.2)\n",
            "Requirement already satisfied: idna<4,>=2.5 in /usr/local/lib/python3.10/dist-packages (from requests->biosignalsnotebooks) (3.4)\n",
            "Requirement already satisfied: urllib3<3,>=1.21.1 in /usr/local/lib/python3.10/dist-packages (from requests->biosignalsnotebooks) (2.0.7)\n",
            "Requirement already satisfied: certifi>=2017.4.17 in /usr/local/lib/python3.10/dist-packages (from requests->biosignalsnotebooks) (2023.7.22)\n",
            "Requirement already satisfied: parso<0.9.0,>=0.8.3 in /usr/local/lib/python3.10/dist-packages (from jedi>=0.16->IPython->biosignalsnotebooks) (0.8.3)\n",
            "Requirement already satisfied: MarkupSafe>=2.0 in /usr/local/lib/python3.10/dist-packages (from Jinja2>=2.9->bokeh==2.4.3->biosignalsnotebooks) (2.1.3)\n",
            "Requirement already satisfied: attrs>=22.2.0 in /usr/local/lib/python3.10/dist-packages (from jsonschema>=2.6->nbformat->biosignalsnotebooks) (23.1.0)\n",
            "Requirement already satisfied: jsonschema-specifications>=2023.03.6 in /usr/local/lib/python3.10/dist-packages (from jsonschema>=2.6->nbformat->biosignalsnotebooks) (2023.11.1)\n",
            "Requirement already satisfied: referencing>=0.28.4 in /usr/local/lib/python3.10/dist-packages (from jsonschema>=2.6->nbformat->biosignalsnotebooks) (0.31.0)\n",
            "Requirement already satisfied: rpds-py>=0.7.1 in /usr/local/lib/python3.10/dist-packages (from jsonschema>=2.6->nbformat->biosignalsnotebooks) (0.13.0)\n",
            "Requirement already satisfied: ptyprocess>=0.5 in /usr/local/lib/python3.10/dist-packages (from pexpect>4.3->IPython->biosignalsnotebooks) (0.7.0)\n",
            "Requirement already satisfied: wcwidth in /usr/local/lib/python3.10/dist-packages (from prompt-toolkit!=3.0.0,!=3.0.1,<3.1.0,>=2.0.0->IPython->biosignalsnotebooks) (0.2.10)\n",
            "Requirement already satisfied: six>=1.5 in /usr/local/lib/python3.10/dist-packages (from python-dateutil>=2.7->matplotlib->biosignalsnotebooks) (1.16.0)\n",
            "Requirement already satisfied: platformdirs>=2.5 in /usr/local/lib/python3.10/dist-packages (from jupyter-core->nbformat->biosignalsnotebooks) (4.0.0)\n"
          ]
        }
      ],
      "source": [
        "pip install biosignalsnotebooks"
      ]
    },
    {
      "cell_type": "code",
      "source": [
        "import numpy as np\n",
        "import matplotlib.pyplot as plt\n",
        "import pandas as pd\n",
        "import seaborn as sns\n",
        "import re\n",
        "import pywt\n",
        "from scipy import signal\n",
        "from scipy.signal import iirnotch, freqz, find_peaks\n",
        "import biosignalsnotebooks as bsnb\n",
        "from scipy.signal import lfilter\n"
      ],
      "metadata": {
        "id": "vrnx2mQyQT-v"
      },
      "execution_count": 15,
      "outputs": []
    },
    {
      "cell_type": "code",
      "source": [
        "Fs = 500 #Fs:500\n",
        "Ts=1/Fs\n",
        "\n",
        "print(f\" Fs={Fs} hz\\n Ts={Ts} s\")\n",
        "arrayecg = np.genfromtxt(\"ECG_II_10mins_seg2.txt\", delimiter=\"\\t\",skip_header = 1)\n",
        "#Extraemos la columna de la señal\n",
        "signal = arrayecg[:, 1]\n",
        "print(len(signal))\n",
        "\n",
        "n = 1000 #Queremos graficar 2 minutos de la señal\n",
        "t = np.arange(0,n*Ts,Ts)\n",
        "\n",
        "signal2 = signal[:900000] #Obtenemos los primeros 2000 valores de nuestra señal\n",
        "len(signal2)"
      ],
      "metadata": {
        "colab": {
          "base_uri": "https://localhost:8080/"
        },
        "id": "HA-x9NXVQUqs",
        "outputId": "4feee1bc-40cb-4a21-e08d-ca337064a8e9"
      },
      "execution_count": 24,
      "outputs": [
        {
          "output_type": "stream",
          "name": "stdout",
          "text": [
            " Fs=500 hz\n",
            " Ts=0.002 s\n",
            "300000\n"
          ]
        },
        {
          "output_type": "execute_result",
          "data": {
            "text/plain": [
              "300000"
            ]
          },
          "metadata": {},
          "execution_count": 24
        }
      ]
    },
    {
      "cell_type": "code",
      "source": [
        "# Lista para almacenar las características de cada segmento\n",
        "all_segment_features = []\n",
        "\n",
        "segment_duration = 30\n",
        "Fs = 500\n",
        "num_segments = len(signal) // int(Fs * segment_duration)\n",
        "print(num_segments)"
      ],
      "metadata": {
        "colab": {
          "base_uri": "https://localhost:8080/"
        },
        "id": "Dxk-VfoCTTfy",
        "outputId": "b44978a1-c704-4435-8fb0-34fc07a1dfb0"
      },
      "execution_count": 17,
      "outputs": [
        {
          "output_type": "stream",
          "name": "stdout",
          "text": [
            "20\n"
          ]
        }
      ]
    },
    {
      "cell_type": "code",
      "source": [
        "import csv\n",
        "\n",
        "# Lista para almacenar las características de cada segmento\n",
        "all_segment_features = []\n",
        "\n",
        "segment_duration = 30\n",
        "Fs = 500\n",
        "num_segments = len(signal) // int(Fs * segment_duration)\n",
        "\n",
        "\n",
        "# Características de cada segmento\n",
        "for i in range(num_segments):\n",
        "    # Índices del segmento actual\n",
        "    start_idx = (i+1) * int(Fs * segment_duration)\n",
        "    end_idx = (i + 2) * int(Fs * segment_duration)\n",
        "\n",
        "    # Seleccionar el segmento de la señal\n",
        "    segment_signal = signal[start_idx:end_idx]\n",
        "\n",
        "    # Verificar que la longitud del segmento sea suficiente\n",
        "    if len(segment_signal) >= 150:\n",
        "        # Calcular características del segmento\n",
        "        dict_parameters = bsnb.hrv_parameters(segment_signal, Fs, signal=True)\n",
        "\n",
        "        # Agregar las características a la lista\n",
        "        all_segment_features.append(dict_parameters)\n",
        "    else:\n",
        "        print(f\"El segmento {i + 1} es demasiado corto para calcular las características de HRV.\")\n",
        "\n",
        "    # Agregar las características a la lista\n",
        "    all_segment_features.append(dict_parameters)\n",
        "\n",
        "# Nombres de las características para encabezado del CSV\n",
        "feature_names = [\n",
        "        'MaxRR', 'MinRR', 'AvgRR', 'MaxBPM', 'MinBPM', 'AvgBPM',\n",
        "        'SDNN', 'SD1', 'SD2', 'SD1/SD2', 'NN20', 'pNN20', 'NN50',\n",
        "        'pNN50', 'ULF_Power', 'VLF_Power', 'LF_Power', 'HF_Power',\n",
        "        'LF_HF_Ratio', 'Total_Power'\n",
        "    ]\n",
        "\n",
        "# Guardar las características en un archivo CSV\n",
        "csv_filename = \"caracteristicas_segmentos5.csv\"\n",
        "with open(csv_filename, 'w', newline='') as csv_file:\n",
        "    writer = csv.DictWriter(csv_file, fieldnames=feature_names)\n",
        "\n",
        "    # Escribir el encabezado\n",
        "    writer.writeheader()\n",
        "\n",
        "    # Escribir las características de cada segmento\n",
        "    for features in all_segment_features:\n",
        "        writer.writerow(features)\n",
        "\n",
        "print(f\"Las características se han guardado en el archivo CSV: {csv_filename}\")"
      ],
      "metadata": {
        "colab": {
          "base_uri": "https://localhost:8080/"
        },
        "id": "dlmWe-psQgAB",
        "outputId": "9fd1fc08-f11b-4eab-8b80-0fdc548e9398"
      },
      "execution_count": 29,
      "outputs": [
        {
          "output_type": "stream",
          "name": "stdout",
          "text": [
            "El segmento 20 es demasiado corto para calcular las características de HRV.\n",
            "Las características se han guardado en el archivo CSV: caracteristicas_segmentos5.csv\n"
          ]
        }
      ]
    }
  ]
}