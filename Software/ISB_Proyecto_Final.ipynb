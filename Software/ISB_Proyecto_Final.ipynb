{
  "nbformat": 4,
  "nbformat_minor": 0,
  "metadata": {
    "colab": {
      "provenance": []
    },
    "kernelspec": {
      "name": "python3",
      "display_name": "Python 3"
    },
    "language_info": {
      "name": "python"
    }
  },
  "cells": [
    {
      "cell_type": "code",
      "execution_count": 3,
      "metadata": {
        "colab": {
          "base_uri": "https://localhost:8080/"
        },
        "id": "vVGnXmp6kJ7D",
        "outputId": "1eac7d27-384e-4ab9-8562-6deafd987d06"
      },
      "outputs": [
        {
          "output_type": "stream",
          "name": "stdout",
          "text": [
            "Requirement already satisfied: scikit-learn in /usr/local/lib/python3.10/dist-packages (1.2.2)\n",
            "Requirement already satisfied: numpy>=1.17.3 in /usr/local/lib/python3.10/dist-packages (from scikit-learn) (1.23.5)\n",
            "Requirement already satisfied: scipy>=1.3.2 in /usr/local/lib/python3.10/dist-packages (from scikit-learn) (1.11.3)\n",
            "Requirement already satisfied: joblib>=1.1.1 in /usr/local/lib/python3.10/dist-packages (from scikit-learn) (1.3.2)\n",
            "Requirement already satisfied: threadpoolctl>=2.0.0 in /usr/local/lib/python3.10/dist-packages (from scikit-learn) (3.2.0)\n"
          ]
        }
      ],
      "source": [
        "!pip install scikit-learn\n"
      ]
    },
    {
      "cell_type": "code",
      "source": [
        "import numpy as np\n",
        "import pandas as pd\n",
        "from sklearn.model_selection import train_test_split\n",
        "from sklearn.preprocessing import PolynomialFeatures\n",
        "from sklearn.linear_model import LinearRegression\n",
        "from sklearn.metrics import mean_squared_error, r2_score, mean_absolute_error\n",
        "from sklearn.preprocessing import StandardScaler"
      ],
      "metadata": {
        "id": "Uw7BpNxakLDz"
      },
      "execution_count": 2,
      "outputs": []
    },
    {
      "cell_type": "code",
      "source": [
        "data = pd.read_csv('caracteristicas_entrenamiento_final2.csv')\n",
        "print(data.head())"
      ],
      "metadata": {
        "colab": {
          "base_uri": "https://localhost:8080/"
        },
        "id": "It7bbSMwkQwZ",
        "outputId": "30fd5fd0-f9f4-4d68-9fc8-8bd2e65ad5e7"
      },
      "execution_count": 4,
      "outputs": [
        {
          "output_type": "stream",
          "name": "stdout",
          "text": [
            "      MaxRR     MinRR     AvgRR     MaxBPM     MinBPM     AvgBPM      SDNN  \\\n",
            "0  0.986066  0.942063  0.961168  63.690021  60.847870  62.424082  0.011125   \n",
            "1  0.962064  0.904060  0.932514  66.367257  62.365904  64.342213  0.013059   \n",
            "2  0.930062  0.878059  0.899685  68.332574  64.511828  66.690010  0.012005   \n",
            "3  0.904060  0.876058  0.888241  68.488584  66.367257  67.549232  0.006918   \n",
            "4  0.922061  0.878059  0.900435  68.332574  65.071584  66.634458  0.010093   \n",
            "\n",
            "        SD1       SD2   SD1/SD2  ...  pNN20  NN50  pNN50  ULF_Power  \\\n",
            "0  0.006945  0.014117  0.491988  ...      3     0      0        0.0   \n",
            "1  0.008556  0.016366  0.522766  ...     13     0      0        0.0   \n",
            "2  0.006440  0.015709  0.409954  ...      6     0      0        0.0   \n",
            "3  0.006584  0.007236  0.909906  ...      6     0      0        0.0   \n",
            "4  0.007164  0.012346  0.580249  ...      6     0      0        0.0   \n",
            "\n",
            "   VLF_Power  LF_Power  HF_Power  LF_HF_Ratio  Total_Power   Promedio  \n",
            "0        0.0   0.00002   0.00000          0.0      0.00002  74.239864  \n",
            "1        0.0   0.00003   0.00001          3.0      0.00004  74.407073  \n",
            "2        0.0   0.00000   0.00000          0.0      0.00000  76.160994  \n",
            "3        0.0   0.00000   0.00001          0.0      0.00001  75.777992  \n",
            "4        0.0   0.00001   0.00001          1.0      0.00002  75.021864  \n",
            "\n",
            "[5 rows x 21 columns]\n"
          ]
        }
      ]
    },
    {
      "cell_type": "code",
      "source": [
        "# Separar las características (X) y la variable objetivo (y)\n",
        "X = data.drop('Promedio', axis=1)\n",
        "y = data['Promedio']\n",
        "\n",
        "# Dividir el conjunto de datos en entrenamiento y prueba\n",
        "X_train, X_test, y_train, y_test = train_test_split(X, y, test_size=0.2, random_state=42)"
      ],
      "metadata": {
        "id": "1NjtHosukTlq"
      },
      "execution_count": 5,
      "outputs": []
    },
    {
      "cell_type": "code",
      "source": [
        "scaler = StandardScaler()\n",
        "X_train_scaled = scaler.fit_transform(X_train)\n",
        "X_test_scaled = scaler.transform(X_test)"
      ],
      "metadata": {
        "id": "j7JCTds7kd1F"
      },
      "execution_count": 7,
      "outputs": []
    },
    {
      "cell_type": "code",
      "source": [
        "# Inicializar y entrenar el modelo de regresión lineal en las características polinómicas\n",
        "model = LinearRegression()\n",
        "model.fit(X_train_scaled, y_train)\n",
        "\n",
        "# Realizar predicciones en el conjunto de prueba\n",
        "y_pred = model.predict(X_test_scaled)\n",
        "\n",
        "# Evaluar el rendimiento del modelo\n",
        "mse = mean_squared_error(y_test, y_pred)\n",
        "print(f'Mean Squared Error: {mse}')\n",
        "r2 = r2_score(y_test, y_pred)\n",
        "print(f'R² Score: {r2}')\n",
        "mae = mean_absolute_error(y_test, y_pred)\n",
        "print(f'Mean Absolute Error (MAE): {mae}')"
      ],
      "metadata": {
        "colab": {
          "base_uri": "https://localhost:8080/"
        },
        "id": "a0dSC8Rkl8VA",
        "outputId": "7a366776-a109-45bf-b406-0011d45f3bec"
      },
      "execution_count": 8,
      "outputs": [
        {
          "output_type": "stream",
          "name": "stdout",
          "text": [
            "Mean Squared Error: 30.925766520884668\n",
            "R² Score: -0.635098145575322\n",
            "Mean Absolute Error (MAE): 3.916513449378755\n"
          ]
        }
      ]
    },
    {
      "cell_type": "code",
      "source": [
        "nuevas_caracteristicas = pd.read_excel('caracteristicas_bitalino.xlsx')\n",
        "print(nuevas_caracteristicas.head())"
      ],
      "metadata": {
        "colab": {
          "base_uri": "https://localhost:8080/"
        },
        "id": "0PjvOddJmLT7",
        "outputId": "ca6e8edd-21fe-43b9-8465-a3520df5c3d0"
      },
      "execution_count": 9,
      "outputs": [
        {
          "output_type": "stream",
          "name": "stdout",
          "text": [
            "      MaxRR     MinRR     AvgRR     MaxBPM     MinBPM     AvgBPM      SDNN  \\\n",
            "0  0.861014  0.667011  0.779654  89.953574  69.685289  76.957256  0.049788   \n",
            "\n",
            "        SD1       SD2   SD1/SD2  NN20  pNN20  NN50  pNN50  ULF_Power  \\\n",
            "0  0.059642  0.037424  1.593663    50     63    20     25          0   \n",
            "\n",
            "   VLF_Power  LF_Power  HF_Power  LF_HF_Ratio  Total_Power  \n",
            "0    0.00012   0.00344   0.00105      3.27619      0.00461  \n"
          ]
        }
      ]
    },
    {
      "cell_type": "code",
      "source": [
        "nueva_prediccion = model.predict(nuevas_caracteristicas)\n",
        "print(f'Predicción de presión arterial: {nueva_prediccion}')"
      ],
      "metadata": {
        "colab": {
          "base_uri": "https://localhost:8080/"
        },
        "id": "lQiWlC2xmRIL",
        "outputId": "93842ac4-2c1b-41a0-b80d-612021bbb8e8"
      },
      "execution_count": 72,
      "outputs": [
        {
          "output_type": "stream",
          "name": "stdout",
          "text": [
            "Predicción de presión arterial: [353.32253324]\n"
          ]
        }
      ]
    },
    {
      "cell_type": "code",
      "source": [
        "poly = PolynomialFeatures(degree=9)\n",
        "X_train_poly = poly.fit_transform(X_train_scaled)\n",
        "X_test_poly = poly.transform(X_test_scaled)\n",
        "# Inicializar y entrenar el modelo de regresión lineal en las características polinómicas\n",
        "model2 = LinearRegression()\n",
        "model2.fit(X_train_poly, y_train)\n",
        "\n",
        "# Realizar predicciones en el conjunto de prueba\n",
        "y_pred = model2.predict(X_test_poly)\n",
        "\n",
        "# Evaluar el rendimiento del modelo\n",
        "mse = mean_squared_error(y_test, y_pred)\n",
        "print(f'Mean Squared Error: {mse}')\n",
        "r2 = r2_score(y_test, y_pred)\n",
        "print(f'R² Score: {r2}')\n",
        "mae = mean_absolute_error(y_test, y_pred)\n",
        "print(f'Mean Absolute Error (MAE): {mae}')"
      ],
      "metadata": {
        "id": "Xx2whLCtoyMl"
      },
      "execution_count": null,
      "outputs": []
    },
    {
      "cell_type": "code",
      "source": [
        "nuevas_caracteristicas_poly = poly.fit_transform(nuevas_caracteristicas)\n",
        "nueva_prediccion = model2.predict(nuevas_caracteristicas_poly)\n",
        "print(f'Predicción de presión arterial: {nueva_prediccion}')"
      ],
      "metadata": {
        "colab": {
          "base_uri": "https://localhost:8080/"
        },
        "id": "JEMRSbtnpMjP",
        "outputId": "9fd5ce08-f998-411e-9f74-dc84b795c710"
      },
      "execution_count": 84,
      "outputs": [
        {
          "output_type": "stream",
          "name": "stdout",
          "text": [
            "Predicción de presión arterial: [1.64698837e+11]\n"
          ]
        }
      ]
    }
  ]
}